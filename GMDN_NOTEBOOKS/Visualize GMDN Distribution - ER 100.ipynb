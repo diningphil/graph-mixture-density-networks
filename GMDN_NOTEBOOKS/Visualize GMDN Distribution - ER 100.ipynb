{
 "cells": [
  {
   "cell_type": "code",
   "execution_count": 1,
   "metadata": {},
   "outputs": [],
   "source": [
    "import os\n",
    "import json\n",
    "from pathlib import Path\n",
    "import torch\n",
    "import numpy as np\n",
    "import matplotlib.pyplot as plt\n",
    "import seaborn as sns\n",
    "\n",
    "from model.dgn.gmdn import GMDN\n",
    "from model.util.graph_expert_emission import GraphExpertEmission"
   ]
  },
  {
   "cell_type": "code",
   "execution_count": 2,
   "metadata": {},
   "outputs": [
    {
     "ename": "FileNotFoundError",
     "evalue": "[Errno 2] No such file or directory: 'RESULTS_SIR/RESULTS_SIR_GMDN/MGDN_erdos_renyi_100_0.01@0.05@0.1@0.2_assessment/HOLDOUT_ASS/HOLDOUT_MS/winner_config.json'",
     "output_type": "error",
     "traceback": [
      "\u001b[0;31m---------------------------------------------------------------------------\u001b[0m",
      "\u001b[0;31mFileNotFoundError\u001b[0m                         Traceback (most recent call last)",
      "\u001b[0;32m<ipython-input-2-5d4e55a4f2ca>\u001b[0m in \u001b[0;36m<module>\u001b[0;34m\u001b[0m\n\u001b[1;32m      3\u001b[0m \u001b[0mconfig_file\u001b[0m \u001b[0;34m=\u001b[0m \u001b[0mPath\u001b[0m\u001b[0;34m(\u001b[0m\u001b[0mfolder\u001b[0m\u001b[0;34m/\u001b[0m \u001b[0mPath\u001b[0m\u001b[0;34m(\u001b[0m\u001b[0;34m'HOLDOUT_MS'\u001b[0m\u001b[0;34m)\u001b[0m \u001b[0;34m/\u001b[0m \u001b[0mPath\u001b[0m\u001b[0;34m(\u001b[0m\u001b[0;34m'winner_config.json'\u001b[0m\u001b[0;34m)\u001b[0m\u001b[0;34m)\u001b[0m\u001b[0;34m\u001b[0m\u001b[0;34m\u001b[0m\u001b[0m\n\u001b[1;32m      4\u001b[0m \u001b[0;34m\u001b[0m\u001b[0m\n\u001b[0;32m----> 5\u001b[0;31m \u001b[0;32mwith\u001b[0m \u001b[0mopen\u001b[0m\u001b[0;34m(\u001b[0m\u001b[0mconfig_file\u001b[0m\u001b[0;34m,\u001b[0m \u001b[0;34m'r'\u001b[0m\u001b[0;34m)\u001b[0m \u001b[0;32mas\u001b[0m \u001b[0mf\u001b[0m\u001b[0;34m:\u001b[0m\u001b[0;34m\u001b[0m\u001b[0;34m\u001b[0m\u001b[0m\n\u001b[0m\u001b[1;32m      6\u001b[0m     \u001b[0mconfig_data\u001b[0m \u001b[0;34m=\u001b[0m \u001b[0mjson\u001b[0m\u001b[0;34m.\u001b[0m\u001b[0mload\u001b[0m\u001b[0;34m(\u001b[0m\u001b[0mf\u001b[0m\u001b[0;34m)\u001b[0m\u001b[0;34m\u001b[0m\u001b[0;34m\u001b[0m\u001b[0m\n\u001b[1;32m      7\u001b[0m \u001b[0mconfig_data\u001b[0m\u001b[0;34m[\u001b[0m\u001b[0;34m'config'\u001b[0m\u001b[0;34m]\u001b[0m\u001b[0;34m[\u001b[0m\u001b[0;34m'supervised_config'\u001b[0m\u001b[0;34m]\u001b[0m\u001b[0;34m\u001b[0m\u001b[0;34m\u001b[0m\u001b[0m\n",
      "\u001b[0;31mFileNotFoundError\u001b[0m: [Errno 2] No such file or directory: 'RESULTS_SIR/RESULTS_SIR_GMDN/MGDN_erdos_renyi_100_0.01@0.05@0.1@0.2_assessment/HOLDOUT_ASS/HOLDOUT_MS/winner_config.json'"
     ]
    }
   ],
   "source": [
    "folder = f'RESULTS_SIR/RESULTS_SIR_GMDN/MGDN_erdos_renyi_100_0.01@0.05@0.1@0.2_assessment/HOLDOUT_ASS/'\n",
    "ckpt = Path(folder/ Path('best_checkpoint.pth'))\n",
    "config_file = Path(folder/ Path('HOLDOUT_MS') / Path('winner_config.json'))\n",
    "\n",
    "with open(config_file, 'r') as f:\n",
    "    config_data = json.load(f)\n",
    "config_data['config']['supervised_config']\n",
    "\n",
    "# Backward compatibility with old code\n",
    "config_data['config']['supervised_config']['neighborhood_aggregation'] = 'add'\n",
    "\n",
    "print(config_data)"
   ]
  },
  {
   "cell_type": "code",
   "execution_count": 8,
   "metadata": {},
   "outputs": [],
   "source": [
    "from data.dataset import ErdosRenyiDataset\n",
    "\n",
    "dataset = ErdosRenyiDataset('DATA/ERDOS_RENYI', 'erdos_renyi', size=100, connectivity=\"0.01@0.05@0.1@0.2\")"
   ]
  },
  {
   "cell_type": "code",
   "execution_count": 11,
   "metadata": {},
   "outputs": [],
   "source": [
    "model = GMDN(dataset.dim_node_features, dataset.dim_edge_features, dataset.dim_target, GraphExpertEmission, config_data['config']['supervised_config'])"
   ]
  },
  {
   "cell_type": "code",
   "execution_count": 12,
   "metadata": {},
   "outputs": [
    {
     "data": {
      "text/plain": [
       "GMDN(\n",
       "  (layer): GMDNEncoder(\n",
       "    (emission): GraphExpertEmission(\n",
       "      (output_activation): Identity()\n",
       "      (node_transform): Identity()\n",
       "      (final_transform): Linear(in_features=128, out_features=20, bias=False)\n",
       "    )\n",
       "    (transition): GMDNTransition(\n",
       "      (layers): ModuleList(\n",
       "        (0): Sequential(\n",
       "          (0): Linear(in_features=5, out_features=64, bias=False)\n",
       "          (1): ReLU()\n",
       "          (2): Linear(in_features=64, out_features=64, bias=False)\n",
       "          (3): ReLU()\n",
       "        )\n",
       "        (1): GMDNConv(\n",
       "          (nn): Sequential(\n",
       "            (0): Linear(in_features=64, out_features=64, bias=False)\n",
       "            (1): ReLU()\n",
       "            (2): Linear(in_features=64, out_features=64, bias=False)\n",
       "            (3): ReLU()\n",
       "          )\n",
       "        )\n",
       "      )\n",
       "      (fc_global): Linear(in_features=128, out_features=64, bias=False)\n",
       "      (out): Linear(in_features=64, out_features=10, bias=True)\n",
       "    )\n",
       "  )\n",
       ")"
      ]
     },
     "execution_count": 12,
     "metadata": {},
     "output_type": "execute_result"
    }
   ],
   "source": [
    "device = 'cpu'\n",
    "model.load_state_dict(torch.load(ckpt)['model_state'])\n",
    "model.eval()\n",
    "model.to(device)"
   ]
  },
  {
   "cell_type": "code",
   "execution_count": 13,
   "metadata": {},
   "outputs": [
    {
     "ename": "KeyboardInterrupt",
     "evalue": "",
     "output_type": "error",
     "traceback": [
      "\u001b[0;31m--------------------------------------------------------------------------\u001b[0m",
      "\u001b[0;31mKeyboardInterrupt\u001b[0m                        Traceback (most recent call last)",
      "\u001b[0;32m<ipython-input-13-7e307d80ec8a>\u001b[0m in \u001b[0;36m<module>\u001b[0;34m\u001b[0m\n\u001b[1;32m      4\u001b[0m \u001b[0mdata_list\u001b[0m \u001b[0;34m=\u001b[0m \u001b[0;34m[\u001b[0m\u001b[0;34m(\u001b[0m\u001b[0md\u001b[0m\u001b[0;34m.\u001b[0m\u001b[0mx\u001b[0m\u001b[0;34m[\u001b[0m\u001b[0;36m0\u001b[0m\u001b[0;34m,\u001b[0m\u001b[0;34m-\u001b[0m\u001b[0;36m2\u001b[0m\u001b[0;34m]\u001b[0m\u001b[0;34m/\u001b[0m\u001b[0md\u001b[0m\u001b[0;34m.\u001b[0m\u001b[0mx\u001b[0m\u001b[0;34m[\u001b[0m\u001b[0;36m0\u001b[0m\u001b[0;34m,\u001b[0m\u001b[0;34m-\u001b[0m\u001b[0;36m1\u001b[0m\u001b[0;34m]\u001b[0m\u001b[0;34m,\u001b[0m \u001b[0md\u001b[0m\u001b[0;34m)\u001b[0m \u001b[0;32mfor\u001b[0m \u001b[0md\u001b[0m \u001b[0;32min\u001b[0m \u001b[0mdataset\u001b[0m\u001b[0;34m]\u001b[0m\u001b[0;34m\u001b[0m\u001b[0;34m\u001b[0m\u001b[0m\n\u001b[1;32m      5\u001b[0m \u001b[0mdata_list\u001b[0m\u001b[0;34m.\u001b[0m\u001b[0msort\u001b[0m\u001b[0;34m(\u001b[0m\u001b[0mkey\u001b[0m\u001b[0;34m=\u001b[0m\u001b[0;32mlambda\u001b[0m \u001b[0mx\u001b[0m\u001b[0;34m:\u001b[0m \u001b[0mx\u001b[0m\u001b[0;34m[\u001b[0m\u001b[0;36m0\u001b[0m\u001b[0;34m]\u001b[0m\u001b[0;34m)\u001b[0m \u001b[0;31m# sort by R0\u001b[0m\u001b[0;34m\u001b[0m\u001b[0;34m\u001b[0m\u001b[0m\n\u001b[0;32m----> 6\u001b[0;31m \u001b[0mdataset\u001b[0m \u001b[0;34m=\u001b[0m \u001b[0mBatch\u001b[0m\u001b[0;34m.\u001b[0m\u001b[0mfrom_data_list\u001b[0m\u001b[0;34m(\u001b[0m\u001b[0;34m[\u001b[0m\u001b[0md\u001b[0m\u001b[0;34m[\u001b[0m\u001b[0;36m1\u001b[0m\u001b[0;34m]\u001b[0m \u001b[0;32mfor\u001b[0m \u001b[0md\u001b[0m \u001b[0;32min\u001b[0m \u001b[0mdata_list\u001b[0m\u001b[0;34m]\u001b[0m\u001b[0;34m)\u001b[0m\u001b[0;34m\u001b[0m\u001b[0;34m\u001b[0m\u001b[0m\n\u001b[0m\u001b[1;32m      7\u001b[0m \u001b[0mdataset\u001b[0m\u001b[0;34m.\u001b[0m\u001b[0mto\u001b[0m\u001b[0;34m(\u001b[0m\u001b[0mdevice\u001b[0m\u001b[0;34m)\u001b[0m\u001b[0;34m\u001b[0m\u001b[0;34m\u001b[0m\u001b[0m\n",
      "\u001b[0;32m~/miniconda3/lib/python3.7/site-packages/torch_geometric/data/batch.py\u001b[0m in \u001b[0;36mfrom_data_list\u001b[0;34m(data_list, follow_batch)\u001b[0m\n\u001b[1;32m    119\u001b[0m             \u001b[0mitem\u001b[0m \u001b[0;34m=\u001b[0m \u001b[0mitems\u001b[0m\u001b[0;34m[\u001b[0m\u001b[0;36m0\u001b[0m\u001b[0;34m]\u001b[0m\u001b[0;34m\u001b[0m\u001b[0;34m\u001b[0m\u001b[0m\n\u001b[1;32m    120\u001b[0m             \u001b[0;32mif\u001b[0m \u001b[0misinstance\u001b[0m\u001b[0;34m(\u001b[0m\u001b[0mitem\u001b[0m\u001b[0;34m,\u001b[0m \u001b[0mTensor\u001b[0m\u001b[0;34m)\u001b[0m\u001b[0;34m:\u001b[0m\u001b[0;34m\u001b[0m\u001b[0;34m\u001b[0m\u001b[0m\n\u001b[0;32m--> 121\u001b[0;31m                 \u001b[0mbatch\u001b[0m\u001b[0;34m[\u001b[0m\u001b[0mkey\u001b[0m\u001b[0;34m]\u001b[0m \u001b[0;34m=\u001b[0m \u001b[0mtorch\u001b[0m\u001b[0;34m.\u001b[0m\u001b[0mcat\u001b[0m\u001b[0;34m(\u001b[0m\u001b[0mitems\u001b[0m\u001b[0;34m,\u001b[0m \u001b[0mref_data\u001b[0m\u001b[0;34m.\u001b[0m\u001b[0m__cat_dim__\u001b[0m\u001b[0;34m(\u001b[0m\u001b[0mkey\u001b[0m\u001b[0;34m,\u001b[0m \u001b[0mitem\u001b[0m\u001b[0;34m)\u001b[0m\u001b[0;34m)\u001b[0m\u001b[0;34m\u001b[0m\u001b[0;34m\u001b[0m\u001b[0m\n\u001b[0m\u001b[1;32m    122\u001b[0m             \u001b[0;32melif\u001b[0m \u001b[0misinstance\u001b[0m\u001b[0;34m(\u001b[0m\u001b[0mitem\u001b[0m\u001b[0;34m,\u001b[0m \u001b[0mSparseTensor\u001b[0m\u001b[0;34m)\u001b[0m\u001b[0;34m:\u001b[0m\u001b[0;34m\u001b[0m\u001b[0;34m\u001b[0m\u001b[0m\n\u001b[1;32m    123\u001b[0m                 \u001b[0mbatch\u001b[0m\u001b[0;34m[\u001b[0m\u001b[0mkey\u001b[0m\u001b[0;34m]\u001b[0m \u001b[0;34m=\u001b[0m \u001b[0mcat\u001b[0m\u001b[0;34m(\u001b[0m\u001b[0mitems\u001b[0m\u001b[0;34m,\u001b[0m \u001b[0mref_data\u001b[0m\u001b[0;34m.\u001b[0m\u001b[0m__cat_dim__\u001b[0m\u001b[0;34m(\u001b[0m\u001b[0mkey\u001b[0m\u001b[0;34m,\u001b[0m \u001b[0mitem\u001b[0m\u001b[0;34m)\u001b[0m\u001b[0;34m)\u001b[0m\u001b[0;34m\u001b[0m\u001b[0;34m\u001b[0m\u001b[0m\n",
      "\u001b[0;31mKeyboardInterrupt\u001b[0m: "
     ]
    }
   ],
   "source": [
    "from torch_geometric.data import Batch\n",
    "\n",
    "# Same beta and gamma on all nodes\n",
    "data_list = [(d.x[0,-2]/d.x[0,-1], d) for d in dataset]\n",
    "data_list.sort(key=lambda x: x[0]) # sort by R0\n",
    "dataset = Batch.from_data_list([d[1] for d in data_list])\n",
    "dataset.to(device)"
   ]
  },
  {
   "cell_type": "code",
   "execution_count": null,
   "metadata": {},
   "outputs": [],
   "source": [
    "from torch.distributions import *\n",
    "\n",
    "def binomial_mixture_pdf(labels, coef, n, p):\n",
    "    \n",
    "    # Assume 1 for now\n",
    "    no_features = 1 \n",
    "    if len(n.shape) == 2:\n",
    "        n = n.unsqueeze(2)  # add output feature dim\n",
    "        # distr_params is now [samples, no_experts, 1=no_features]\n",
    "    if len(p.shape) == 2:\n",
    "        p = p.unsqueeze(2)  # add output feature dim     \n",
    "    mix = Categorical(coef)\n",
    "    comp = Independent(Binomial(n, p), 1)\n",
    "    pmm = MixtureSameFamily(mix, comp) \n",
    "    \n",
    "    if len(labels.shape) == 1:\n",
    "        labels = labels.unsqueeze(1)  # add output feature dim\n",
    "\n",
    "    return pmm.log_prob(labels.float()).exp()"
   ]
  },
  {
   "cell_type": "code",
   "execution_count": null,
   "metadata": {},
   "outputs": [],
   "source": [
    "from torch_geometric.nn.glob import global_mean_pool\n",
    "y = dataset.y\n",
    "\n",
    "no_points = 100\n",
    "\n",
    "beta_space = np.linspace(0, 1, no_points)\n",
    "gamma_space = np.linspace(0.1, 1, no_points)\n",
    "\n",
    "y_space = torch.tensor(np.linspace(y_min, y_max, no_points))\n",
    "\n",
    "r0_subspace_graph = []\n",
    "prob_subspace_graph = []\n",
    "coef_subspace_graph = []\n",
    "p_subspace_graph = []\n",
    "\n",
    "for graph_id in range(100):  # no of graphs\n",
    "\n",
    "    r0_space = None\n",
    "    prob_space = None\n",
    "    coef_space = None\n",
    "    p_space = None\n",
    "\n",
    "    # Take the graph\n",
    "    g = data_list[graph_id][1]\n",
    "    \n",
    "    for i in range(no_points):\n",
    "        for j in range(no_points):\n",
    "            r0 = torch.tensor([beta_space[i]/gamma_space[j]]).unsqueeze(0)\n",
    "            g.x[:, 1:-1] = torch.tensor([r0, beta_space[i], gamma_space[j]]).float().unsqueeze(0)\n",
    "            g.x[:, -1] = data_list[0][1].x[:,-1]\n",
    "\n",
    "            x = Batch.from_data_list([g])\n",
    "            *rest, (params_g, coef_g) = model(x)\n",
    "            n_g, p_g = params_g\n",
    "            n_g, p_g, coef_g = n_g.detach(), p_g.detach(), coef_g.detach()\n",
    "            prob = binomial_mixture_pdf(y_space, coef_g, n_g, p_g).unsqueeze(1)\n",
    "\n",
    "            if r0_space is None:\n",
    "                r0_space = r0\n",
    "            else:\n",
    "                r0_space = torch.cat((r0_space, r0), dim=0)\n",
    "\n",
    "            if prob_space is None:\n",
    "                prob_space = prob\n",
    "            else:\n",
    "                prob_space = torch.cat((prob_space, prob), dim=1)\n",
    "\n",
    "            if coef_space is None:\n",
    "                coef_space = coef_g\n",
    "            else:\n",
    "                coef_space = torch.cat((coef_space, coef_g), dim=0)\n",
    "\n",
    "            if p_space is None:\n",
    "                p_space = p_g\n",
    "            else:\n",
    "                p_space = torch.cat((p_space, p_g), dim=0)\n",
    "\n",
    "    # Use no_points instead of no_points*no_points\n",
    "    prob_subspace_graph.append(prob_space[:, ::no_points])\n",
    "    coef_subspace_graph.append(coef_space[::no_points, :])\n",
    "    p_subspace_graph.append(p_space[::no_points, :])\n",
    "    r0_subspace_graph.append(r0_space[::no_points, :])"
   ]
  },
  {
   "cell_type": "code",
   "execution_count": 14,
   "metadata": {},
   "outputs": [],
   "source": [
    "# Store them to avoid recomputing them every time\n",
    "torch.save(dict(prob_subspace_graph=prob_subspace_graph, coef_subspace_graph=coef_subspace_graph, p_subspace_graph=p_subspace_graph, r0_subspace_graph=r0_subspace_graph), 'ER_100_visualization_results.torch')"
   ]
  },
  {
   "cell_type": "code",
   "execution_count": 17,
   "metadata": {},
   "outputs": [
    {
     "name": "stdout",
     "output_type": "stream",
     "text": [
      "0\n",
      "10\n",
      "20\n",
      "30\n",
      "40\n",
      "50\n",
      "60\n",
      "70\n",
      "80\n",
      "90\n",
      "99\n"
     ]
    }
   ],
   "source": [
    "import pandas as pd\n",
    "\n",
    "no_points = 100\n",
    "d = torch.load('ER_100_visualization_results.torch')\n",
    "\n",
    "prob_subspace_graph = d['prob_subspace_graph']\n",
    "coef_subspace_graph = d['coef_subspace_graph']\n",
    "p_subspace_graph = d['p_subspace_graph']\n",
    "r0_subspace_graph = d['r0_subspace_graph']\n",
    "\n",
    "p_df = pd.DataFrame(columns=['graph_id', r'$\\beta/\\gamma$', 'p', 'expert'])\n",
    "coef_df = pd.DataFrame(columns=['graph_id', r'$\\beta/\\gamma$', 'weight', 'expert'])\n",
    "prob_df = pd.DataFrame(columns=['graph_id', r'$\\beta/\\gamma$', r'$P(y|g,\\beta,\\gamma)$', 'expert'])\n",
    "\n",
    "for i in range(100):  # no of graphs\n",
    "    if (i%10) == 0 or i == 99:\n",
    "        print(i)\n",
    "    r0_list = r0_subspace_graph[i].squeeze().numpy()\n",
    "    for j in range(no_points):\n",
    "        r0 = r0_list[j]\n",
    "        for expert in range(5):\n",
    "            new_row = {'graph_id': str(i), r'$\\beta/\\gamma$': r0, 'p': float(p_subspace_graph[i][j, expert]), 'expert': str(expert+1)}\n",
    "            p_df = p_df.append(new_row, ignore_index=True)\n",
    "            \n",
    "            new_row = {'graph_id': str(i), r'$\\beta/\\gamma$': r0, 'weight': float(coef_subspace_graph[i][j, expert]), 'expert': str(expert+1)}\n",
    "            coef_df = coef_df.append(new_row, ignore_index=True)\n",
    "            \n",
    "            new_row = {'graph_id': str(i), r'$\\beta/\\gamma$': r0, r'$P(y|g,\\beta,\\gamma)$': float(prob_subspace_graph[i][j, expert]), 'expert': str(expert+1)}\n",
    "            prob_df = prob_df.append(new_row, ignore_index=True)     "
   ]
  },
  {
   "cell_type": "code",
   "execution_count": 18,
   "metadata": {},
   "outputs": [],
   "source": [
    "prob_df.to_pickle('OUTPUTS/ER_100_prob_df.pkl')\n",
    "coef_df.to_pickle('OUTPUTS/ER_100_coef_df.pkl')\n",
    "p_df.to_pickle('OUTPUTS/ER_100_p_df.pkl')"
   ]
  },
  {
   "cell_type": "code",
   "execution_count": 3,
   "metadata": {},
   "outputs": [],
   "source": [
    "import pandas as pd\n",
    "import matplotlib.pyplot as plt\n",
    "import seaborn as sns\n",
    "prob_df = pd.read_pickle('OUTPUTS/ER_100_prob_df.pkl')\n",
    "coef_df = pd.read_pickle('OUTPUTS/ER_100_coef_df.pkl')\n",
    "p_df = pd.read_pickle('OUTPUTS/ER_100_p_df.pkl')"
   ]
  },
  {
   "cell_type": "code",
   "execution_count": null,
   "metadata": {},
   "outputs": [],
   "source": [
    "p_df = p_df.rename(columns={\"expert\": \"sub-net\"})\n",
    "\n",
    "plt.rcParams.update({'font.size': 14})\n",
    "sns.lineplot(x=r'$\\beta/\\gamma$', y='p', hue='sub-net', data=p_df, units='graph_id', estimator=None, lw=0.5, palette='colorblind')\n",
    "plt.legend(loc='upper right')\n",
    "plt.tight_layout()\n",
    "plt.savefig('OUTPUTS/ER_100_binomial_distribution.eps')"
   ]
  },
  {
   "cell_type": "code",
   "execution_count": null,
   "metadata": {},
   "outputs": [],
   "source": [
    "coef_df = coef_df.rename(columns={\"expert\": \"sub-net\"})\n",
    "\n",
    "plt.rcParams.update({'font.size': 14})\n",
    "sns.lineplot(x=r'$\\beta/\\gamma$', y='weight', hue='sub-net', data=coef_df, units='graph_id', estimator=None, lw=0.5, palette='colorblind')\n",
    "plt.legend(loc='best')\n",
    "plt.tight_layout()\n",
    "plt.savefig('OUTPUTS/ER_100_weight_distribution.eps')"
   ]
  },
  {
   "cell_type": "code",
   "execution_count": null,
   "metadata": {},
   "outputs": [],
   "source": []
  }
 ],
 "metadata": {
  "kernelspec": {
   "display_name": "Python 3",
   "language": "python",
   "name": "python3"
  },
  "language_info": {
   "codemirror_mode": {
    "name": "ipython",
    "version": 3
   },
   "file_extension": ".py",
   "mimetype": "text/x-python",
   "name": "python",
   "nbconvert_exporter": "python",
   "pygments_lexer": "ipython3",
   "version": "3.7.9"
  }
 },
 "nbformat": 4,
 "nbformat_minor": 4
}
