{
 "cells": [
  {
   "cell_type": "code",
   "execution_count": null,
   "metadata": {},
   "outputs": [],
   "source": [
    "import torch\n",
    "import numpy as np\n",
    "import pandas as pd\n",
    "import matplotlib.pyplot as plt\n",
    "import seaborn as sns\n",
    "from gmdn_dataset import TUDatasetInterface, BarabasiAlbertDataset, ErdosRenyiDataset\n",
    "import json\n",
    "import os\n",
    "import os.path as osp\n",
    "from gmdn import GMDN\n",
    "from pydgn.experiment.experiment import Experiment\n",
    "from pydgn.experiment.util import s2c\n",
    "from torch.distributions import Binomial, Independent, Categorical, MixtureSameFamily, Normal\n",
    "from torch_geometric.utils import *\n",
    "from networkx import *"
   ]
  },
  {
   "cell_type": "code",
   "execution_count": null,
   "metadata": {},
   "outputs": [],
   "source": [
    "data_root = 'DATA/'\n",
    "size = 100\n",
    "dataset_name = 'alchemy_full'\n",
    "dataset_class = 'data.dataset.TUDatasetInterface'\n",
    "d = TUDatasetInterface(data_root, 'alchemy_full', use_node_attr=True)\n",
    "y = d.data.y\n",
    "len(d)"
   ]
  },
  {
   "cell_type": "code",
   "execution_count": null,
   "metadata": {},
   "outputs": [],
   "source": [
    "mdn_config_path = f'RESULTS/MDN/GMDN_{dataset_name}_SupervisedTask/MODEL_ASSESSMENT/OUTER_FOLD_1/MODEL_SELECTION/winner_config.json' \n",
    "mdn_ckpt_path = f'RESULTS/MDN/GMDN_{dataset_name}_SupervisedTask/MODEL_ASSESSMENT/OUTER_FOLD_1/final_run1/best_checkpoint.pth'\n",
    "dgn_config_path = f'RESULTS/DGN/GMDN_{dataset_name}_SupervisedTask/MODEL_ASSESSMENT/OUTER_FOLD_1/MODEL_SELECTION/winner_config.json' \n",
    "dgn_ckpt_path = f'RESULTS/DGN/GMDN_{dataset_name}_SupervisedTask/MODEL_ASSESSMENT/OUTER_FOLD_1/final_run1/best_checkpoint.pth'\n",
    "gmdn_config_path = f'RESULTS/GMDN/GMDN_{dataset_name}_SupervisedTask/MODEL_ASSESSMENT/OUTER_FOLD_1/MODEL_SELECTION/winner_config.json' \n",
    "gmdn_ckpt_path = f'RESULTS/GMDN/GMDN_{dataset_name}_SupervisedTask/MODEL_ASSESSMENT/OUTER_FOLD_1/final_run1/best_checkpoint.pth'\n",
    "mdn_config = json.load(open(mdn_config_path, 'r'))['config']\n",
    "mdn_ckpt = torch.load(mdn_ckpt_path)['model_state']\n",
    "dgn_config = json.load(open(dgn_config_path, 'r'))['config']\n",
    "dgn_ckpt = torch.load(dgn_ckpt_path)['model_state']\n",
    "gmdn_config = json.load(open(gmdn_config_path, 'r'))['config']\n",
    "gmdn_ckpt = torch.load(gmdn_ckpt_path)['model_state']"
   ]
  },
  {
   "cell_type": "code",
   "execution_count": null,
   "metadata": {},
   "outputs": [],
   "source": [
    "mdn_exp = Experiment(mdn_config, f'OUTPUTS/MDN_TESTS_{dataset_name}')\n",
    "dgn_exp = Experiment(dgn_config, f'OUTPUTS/DGN_TESTS_{dataset_name}')\n",
    "gmdn_exp = Experiment(gmdn_config, f'OUTPUTS/GMDN_TESTS_{dataset_name}')"
   ]
  },
  {
   "cell_type": "code",
   "execution_count": null,
   "metadata": {},
   "outputs": [],
   "source": [
    "batch_size = len(d)\n",
    "shuffle = False\n",
    "device = 'cuda:0'\n",
    "dataset_getter_class = s2c('pydgn.data.provider.DataProvider')\n",
    "dataset_getter = dataset_getter_class(data_root,\n",
    "                                      'SPLITS',\n",
    "                                      'SPLITS/alchemy_full/alchemy_full_outer1_inner1.splits',\n",
    "                                      s2c(dataset_class),\n",
    "                                      dataset_name,\n",
    "                                      1, # outer_folds\n",
    "                                      1, # inner folds\n",
    "                                      2, # num_workers\n",
    "                                      True)  # pin memory\n",
    "dataset_getter.set_outer_k(0)\n",
    "dataset_getter.set_inner_k(0)\n",
    "\n",
    "\n",
    "\n",
    "# Instantiate the Dataset Loaders\n",
    "dim_node_features = dataset_getter.get_dim_node_features()\n",
    "dim_edge_features = dataset_getter.get_dim_edge_features()\n",
    "dim_target = dataset_getter.get_dim_target()\n",
    "train_loader = dataset_getter.get_outer_train(batch_size=batch_size, shuffle=shuffle)\n",
    "val_loader = dataset_getter.get_outer_val(batch_size=batch_size, shuffle=shuffle)\n",
    "test_loader = dataset_getter.get_outer_test(batch_size=batch_size, shuffle=shuffle)"
   ]
  },
  {
   "cell_type": "code",
   "execution_count": null,
   "metadata": {},
   "outputs": [],
   "source": [
    "dataset_getter.dataset.data.x.shape"
   ]
  },
  {
   "cell_type": "code",
   "execution_count": null,
   "metadata": {},
   "outputs": [],
   "source": [
    "# Instantiate the Model\n",
    "mdn_model = mdn_exp.create_supervised_model(dim_node_features, dim_edge_features, dim_target)\n",
    "mdn_model.load_state_dict(mdn_ckpt)\n",
    "mdn_model.to(device)\n",
    "dgn_model = dgn_exp.create_supervised_model(dim_node_features, dim_edge_features, dim_target)\n",
    "dgn_model.load_state_dict(dgn_ckpt)\n",
    "dgn_model.to(device)\n",
    "gmdn_model = gmdn_exp.create_supervised_model(dim_node_features, dim_edge_features, dim_target)\n",
    "gmdn_model.load_state_dict(gmdn_ckpt)\n",
    "gmdn_model.to(device)"
   ]
  },
  {
   "cell_type": "code",
   "execution_count": null,
   "metadata": {},
   "outputs": [],
   "source": [
    "with torch.no_grad():\n",
    "    for b in train_loader:\n",
    "        b.to(device)\n",
    "        mdn_train_res = mdn_model(b)\n",
    "        dgn_train_res = dgn_model(b)\n",
    "        gmdn_train_res = gmdn_model(b)\n",
    "        break\n",
    "with torch.no_grad():\n",
    "    for b in val_loader:\n",
    "        b.to(device)\n",
    "        mdn_val_res = mdn_model(b)\n",
    "        dgn_val_res = dgn_model(b)\n",
    "        gmdn_val_res = gmdn_model(b)\n",
    "        break\n",
    "with torch.no_grad():\n",
    "    for b in test_loader:\n",
    "        b.to(device)\n",
    "        mdn_test_res = mdn_model(b)\n",
    "        dgn_test_res = dgn_model(b)\n",
    "        gmdn_test_res = gmdn_model(b)\n",
    "        break"
   ]
  },
  {
   "cell_type": "code",
   "execution_count": null,
   "metadata": {},
   "outputs": [],
   "source": [
    "component_index = 0  # third component\n",
    "#component_index = 4\n",
    "\n",
    "def gen_probs(res, component_index):\n",
    "    params, weights = res[5]\n",
    "    weights = weights.cpu()\n",
    "    mu = params[0].cpu()\n",
    "    var = params[1].cpu()\n",
    "    experts = weights.shape[1]\n",
    "\n",
    "    mu = mu[:,:,component_index].unsqueeze(2)\n",
    "    var = var[:,:,component_index].unsqueeze(2)\n",
    "        \n",
    "    mix = Categorical(weights)\n",
    "    g = Independent(Normal(mu, var), 1)\n",
    "    mm = MixtureSameFamily(mix, g)\n",
    "\n",
    "    probs = []\n",
    "    x = np.linspace(y[:,component_index].min(), y[:,component_index].max(), 1000)\n",
    "    for i in range(1000):\n",
    "        probs.append(mm.log_prob(torch.tensor([x[i]]).float().repeat(mu.shape[0],1)).exp())\n",
    "    probs = torch.stack(probs, dim=1)\n",
    "\n",
    "    return probs, x"
   ]
  },
  {
   "cell_type": "code",
   "execution_count": null,
   "metadata": {},
   "outputs": [],
   "source": [
    "mdn_train_probs, x = gen_probs(mdn_train_res, component_index)\n",
    "dgn_train_probs, _ = gen_probs(dgn_train_res, component_index)\n",
    "gmdn_train_probs, _ = gen_probs(gmdn_train_res, component_index)\n",
    "\n",
    "mdn_val_probs, x = gen_probs(mdn_val_res, component_index)\n",
    "dgn_val_probs, _ = gen_probs(dgn_val_res, component_index)\n",
    "gmdn_val_probs, _ = gen_probs(gmdn_val_res, component_index)\n",
    "\n",
    "mdn_test_probs, x = gen_probs(mdn_test_res, component_index)\n",
    "dgn_test_probs, _ = gen_probs(dgn_test_res, component_index)\n",
    "gmdn_test_probs, _ = gen_probs(gmdn_test_res, component_index)"
   ]
  },
  {
   "cell_type": "code",
   "execution_count": null,
   "metadata": {},
   "outputs": [],
   "source": [
    "mdn_probs = torch.cat((mdn_train_probs, mdn_val_probs, mdn_test_probs), dim=0)\n",
    "dgn_probs = torch.cat((dgn_train_probs, dgn_val_probs, dgn_test_probs), dim=0)\n",
    "gmdn_probs = torch.cat((gmdn_train_probs, gmdn_val_probs, gmdn_test_probs), dim=0)"
   ]
  },
  {
   "cell_type": "code",
   "execution_count": null,
   "metadata": {},
   "outputs": [],
   "source": [
    "'''\n",
    "for i in range(1024):\n",
    "    print(i)\n",
    "    plt.figure()\n",
    "    plt.plot(x, mdn_train_probs[i].numpy(), linestyle=':', linewidth=2, label='MDN')\n",
    "    plt.plot(x, dgn_train_probs[i].numpy(), linestyle='--', linewidth=2, label='DGN')\n",
    "    plt.plot(x, gmdn_train_probs[i].numpy(), linewidth=2, label='GMDN')\n",
    "    plt.xlabel('output')\n",
    "    plt.ylabel('pdf')\n",
    "    plt.rcParams.update({'font.size': 12})\n",
    "    plt.tight_layout()\n",
    "    plt.legend()\n",
    "    #plt.savefig(f'OUTPUTS/alchemy_study_component{component_index}_ex{i}.eps')\n",
    "    plt.show()\n",
    "'''"
   ]
  },
  {
   "cell_type": "code",
   "execution_count": null,
   "metadata": {},
   "outputs": [],
   "source": [
    "for i in range(511,2048):#[40, 44, 63, 842, 874, 548, 213, 511]:\n",
    "    print(i)\n",
    "    plt.figure()\n",
    "    plt.plot(x, mdn_probs[i].numpy(), linestyle=':', linewidth=2, label='MDN')\n",
    "    plt.plot(x, dgn_probs[i].numpy(), linestyle='--', linewidth=2, label='DGN')\n",
    "    plt.plot(x, gmdn_probs[i].numpy(), linewidth=2, label='GMDN')\n",
    "    plt.xlabel('output')\n",
    "    plt.ylabel('pdf')\n",
    "    plt.rcParams.update({'font.size': 12})\n",
    "    plt.tight_layout()\n",
    "    plt.legend()\n",
    "    #plt.savefig(f'OUTPUTS/alchemy_study_component{component_index}_ex{i}.eps')\n",
    "    plt.show()"
   ]
  },
  {
   "cell_type": "markdown",
   "metadata": {},
   "source": [
    "Interesting values for component 0\n",
    "\n",
    "40, 44, 63, 842, 874, 548 (many more in the middle or for other components)"
   ]
  },
  {
   "cell_type": "markdown",
   "metadata": {},
   "source": [
    "## RAND STUDY"
   ]
  },
  {
   "cell_type": "code",
   "execution_count": null,
   "metadata": {},
   "outputs": [],
   "source": [
    "max_val, _ = y.max(dim=0)\n",
    "min_val, _ = y.min(dim=0)"
   ]
  },
  {
   "cell_type": "code",
   "execution_count": null,
   "metadata": {},
   "outputs": [],
   "source": [
    "max_val"
   ]
  },
  {
   "cell_type": "code",
   "execution_count": null,
   "metadata": {},
   "outputs": [],
   "source": [
    "min_val"
   ]
  },
  {
   "cell_type": "code",
   "execution_count": null,
   "metadata": {},
   "outputs": [],
   "source": [
    "py = torch.prod(1/(max_val-min_val), dim=0)\n",
    "py"
   ]
  },
  {
   "cell_type": "code",
   "execution_count": null,
   "metadata": {},
   "outputs": [],
   "source": [
    "# p(y) = \\prod(for each dimension i) p(y_i) using a uniform distribution\n",
    "torch.log(py)"
   ]
  },
  {
   "cell_type": "code",
   "execution_count": null,
   "metadata": {},
   "outputs": [],
   "source": [
    "u = 1/(max_val-min_val)\n",
    "u.log().sum()"
   ]
  },
  {
   "cell_type": "code",
   "execution_count": null,
   "metadata": {},
   "outputs": [],
   "source": [
    "u.log()"
   ]
  },
  {
   "cell_type": "code",
   "execution_count": null,
   "metadata": {},
   "outputs": [],
   "source": [
    "data = []\n",
    "for b in train_loader:\n",
    "    data.extend(b.to_data_list())"
   ]
  },
  {
   "cell_type": "code",
   "execution_count": null,
   "metadata": {},
   "outputs": [],
   "source": [
    "for b in val_loader:\n",
    "    data.extend(b.to_data_list())\n",
    "for b in test_loader:\n",
    "    data.extend(b.to_data_list())"
   ]
  },
  {
   "cell_type": "code",
   "execution_count": null,
   "metadata": {},
   "outputs": [],
   "source": [
    "nx_data = [to_networkx(d, node_attrs=['x'], to_undirected=True) for d in data]"
   ]
  },
  {
   "cell_type": "code",
   "execution_count": null,
   "metadata": {},
   "outputs": [],
   "source": [
    "len(nx_data)"
   ]
  },
  {
   "cell_type": "code",
   "execution_count": null,
   "metadata": {},
   "outputs": [],
   "source": [
    "y = [d.y for d in data]"
   ]
  },
  {
   "cell_type": "code",
   "execution_count": null,
   "metadata": {},
   "outputs": [],
   "source": [
    "# I want to exclude 3D info from graph isomorphism test\n",
    "print(nx_data[0].nodes[1]['x'])"
   ]
  },
  {
   "cell_type": "code",
   "execution_count": null,
   "metadata": {},
   "outputs": [],
   "source": [
    "def node_match_callback(n1, n2):\n",
    "    return n1['x'][3:] == n2['x'][3:]"
   ]
  },
  {
   "cell_type": "code",
   "execution_count": null,
   "metadata": {},
   "outputs": [],
   "source": [
    "ref_index = 804#842\n",
    "ref_graph = nx_data[ref_index]\n",
    "\n",
    "iso_graphs = []\n",
    "for i in range(len(nx_data)):\n",
    "    if i == ref_index:\n",
    "        continue\n",
    "    \n",
    "    if is_isomorphic(nx_data[i], ref_graph, node_match=node_match_callback):\n",
    "        iso_graphs.append(i)\n",
    "        \n",
    "iso_targets = np.array([y[iso_idx][:, component_index].item() for iso_idx in iso_graphs])\n",
    "print(iso_graphs)"
   ]
  },
  {
   "cell_type": "code",
   "execution_count": null,
   "metadata": {},
   "outputs": [],
   "source": [
    "plt.figure()\n",
    "for i in [ref_index] + iso_graphs:\n",
    "    target = dataset_getter.dataset[i].y[0,0].item()\n",
    "    plt.axvline(x=target, color='#D2E3F0', linestyle='-', alpha=1)    \n",
    "plt.plot(x, mdn_probs[ref_index].numpy(), linestyle=':', color='C0', linewidth=2, label='MDN')\n",
    "plt.plot(x, dgn_probs[ref_index].numpy(), linestyle='--', color='C1', linewidth=2, label='DGN')\n",
    "plt.plot(x, gmdn_probs[ref_index].numpy(), linewidth=2, color='C2', label='GMDN')\n",
    "plt.xlabel('output')\n",
    "plt.ylabel('pdf')\n",
    "plt.rcParams.update({'font.size': 12})\n",
    "plt.tight_layout()\n",
    "plt.legend()\n",
    "plt.savefig(f'OUTPUTS/alchemy_study_component{component_index}_ex{ref_index}.eps')\n",
    "plt.show()"
   ]
  },
  {
   "cell_type": "code",
   "execution_count": null,
   "metadata": {},
   "outputs": [],
   "source": []
  },
  {
   "cell_type": "code",
   "execution_count": null,
   "metadata": {},
   "outputs": [],
   "source": []
  }
 ],
 "metadata": {
  "kernelspec": {
   "display_name": "Python 3",
   "language": "python",
   "name": "python3"
  },
  "language_info": {
   "codemirror_mode": {
    "name": "ipython",
    "version": 3
   },
   "file_extension": ".py",
   "mimetype": "text/x-python",
   "name": "python",
   "nbconvert_exporter": "python",
   "pygments_lexer": "ipython3",
   "version": "3.7.11"
  }
 },
 "nbformat": 4,
 "nbformat_minor": 4
}
