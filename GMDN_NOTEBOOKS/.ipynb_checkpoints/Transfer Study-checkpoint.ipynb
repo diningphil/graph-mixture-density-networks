{
 "cells": [
  {
   "cell_type": "code",
   "execution_count": 2,
   "metadata": {},
   "outputs": [
    {
     "name": "stderr",
     "output_type": "stream",
     "text": [
      "Using backend: pytorch\n"
     ]
    }
   ],
   "source": [
    "import os\n",
    "import json\n",
    "import yaml\n",
    "import torch\n",
    "import pprint\n",
    "import pickle\n",
    "import seaborn as sns\n",
    "from pathlib import Path\n",
    "from pydoc import locate\n",
    "import matplotlib.pyplot as plt\n",
    "\n",
    "from pydgn.experiment.experiment import Experiment\n",
    "\n",
    "from gmdn import GMDN\n",
    "from pydgn.data.provider import DataProvider\n",
    "from gmdn_dataset import BarabasiAlbertDataset, ErdosRenyiDataset"
   ]
  },
  {
   "cell_type": "code",
   "execution_count": 2,
   "metadata": {},
   "outputs": [],
   "source": [
    "results_folder = Path('RESULTS')\n",
    "results_baseline_folder = Path('RESULTS_BASELINE')\n",
    "splits_folder = Path('SPLITS')\n",
    "\n",
    "num_workers = 2\n",
    "\n",
    "barabasi_albert_root = Path('DATA', 'BARABASI_ALBERT')\n",
    "erdos_renyi_root = Path('DATA', 'ERDOS_RENYI')"
   ]
  },
  {
   "cell_type": "code",
   "execution_count": 3,
   "metadata": {},
   "outputs": [],
   "source": [
    "def get_config_and_checkpoint(config_path, checkpoint_path):\n",
    "    with open(config_path, 'r') as f:\n",
    "        cfg = json.load(f)\n",
    "    ckpt = torch.load(checkpoint_path)\n",
    "    return cfg['best_config']['config'], ckpt"
   ]
  },
  {
   "cell_type": "markdown",
   "metadata": {},
   "source": [
    "### Define Barabasi-Albert dataset loaders"
   ]
  },
  {
   "cell_type": "code",
   "execution_count": 4,
   "metadata": {},
   "outputs": [],
   "source": [
    "def get_barabasi_albert(size, connectivity):\n",
    "    barabasi_albert_name = Path(f'barabasi_albert_{size}_{connectivity}')\n",
    "    if not os.path.exists(barabasi_albert_root / barabasi_albert_name):\n",
    "        # Create the dataset once and for all\n",
    "        data = {\n",
    "            'root': \"DATA/BARABASI_ALBERT\",\n",
    "            'splits': \"SPLITS/\",\n",
    "            'name': \"barabasi_albert\",\n",
    "            'splitter': \"datasets.splitter.SIRSplitter\",\n",
    "            'class_name': \"datasets.datasets.BarabasiAlbertDataset\",\n",
    "            'inner_folds': 1,\n",
    "            'outer_folds': 1,\n",
    "            'seed': 42,\n",
    "            'other_args':\n",
    "                {\n",
    "                  'size': int(size),\n",
    "                  'connectivity': str(connectivity)\n",
    "                }\n",
    "        }\n",
    "\n",
    "        with open('tmp.yml', 'w') as outfile:\n",
    "            yaml.dump(data, outfile, default_flow_style=False)\n",
    "        !python PrepareDatasets.py --config-file tmp.yml\n",
    "            \n",
    "        os.remove('tmp.yml')\n",
    "        # Create the dataset\n",
    "        BarabasiAlbertDataset(barabasi_albert_root, 'barabasi_albert', size, connectivity)\n",
    "    \n",
    "    barabasi_albert_getter = DataProvider(barabasi_albert_root, splits_folder, BarabasiAlbertDataset,\n",
    "                                          barabasi_albert_name, outer_folds=1, inner_folds=1,\n",
    "                                          num_workers=num_workers, pin_memory=True if num_workers > 0 else False)\n",
    "    barabasi_albert_getter.set_outer_k(0)  # needs to stay 0\n",
    "    barabasi_albert_getter.set_inner_k(0)  # needs to stay 0\n",
    "\n",
    "    # Instantiate the Dataset\n",
    "    dim_node_features = barabasi_albert_getter.get_dim_node_features()\n",
    "    dim_edge_features = barabasi_albert_getter.get_dim_edge_features()\n",
    "    dim_target = barabasi_albert_getter.get_dim_target()\n",
    "    train_loader = barabasi_albert_getter.get_inner_train(batch_size=32, shuffle=False)\n",
    "    val_loader = barabasi_albert_getter.get_inner_val(batch_size=32, shuffle=False)\n",
    "    test_loader = barabasi_albert_getter.get_outer_test(batch_size=32, shuffle=False)\n",
    "    return train_loader, val_loader, test_loader"
   ]
  },
  {
   "cell_type": "code",
   "execution_count": 5,
   "metadata": {},
   "outputs": [],
   "source": [
    "# Load model associated with a specific experiment\n",
    "size = 100\n",
    "connectivity= \"2@5@10@20\"\n",
    "\n",
    "barabasi_albert_name = Path(f'barabasi_albert_{size}_{connectivity}')\n",
    "barabasi_albert_exp_path = Path('TRANSFER_STUDY', barabasi_albert_name)\n",
    "\n",
    "if not os.path.exists(barabasi_albert_exp_path):\n",
    "    os.makedirs(barabasi_albert_exp_path)\n",
    "\n",
    "cfg_file = Path(results_folder, f'GMDN_{barabasi_albert_name}_assessment', 'HOLDOUT_ASS', 'assessment_results.json')\n",
    "ckpt_file = Path(results_folder, f'GMDN_{barabasi_albert_name}_assessment', 'HOLDOUT_ASS', 'best_checkpoint.pth')\n",
    "\n",
    "# Load configuration file and checkpoint\n",
    "barabasi_albert_config, barabasi_albert_checkpoint = get_config_and_checkpoint(cfg_file, ckpt_file)\n",
    "# Create experiment\n",
    "barabasi_albert_exp = Experiment(barabasi_albert_config, barabasi_albert_exp_path)\n",
    "# Create model\n",
    "barabasi_albert_model = barabasi_albert_exp.create_supervised_model(dim_node_features=5, dim_edge_features=0, dim_target=1)\n",
    "# Load checkpoint\n",
    "barabasi_albert_model.load_state_dict(barabasi_albert_checkpoint)\n",
    "# Create training engine to perform inference\n",
    "barabasi_albert_engine = barabasi_albert_exp.create_supervised_wrapper(barabasi_albert_model)"
   ]
  },
  {
   "cell_type": "markdown",
   "metadata": {},
   "source": [
    "### Istantiate Erdos-Renyi dataset"
   ]
  },
  {
   "cell_type": "code",
   "execution_count": 6,
   "metadata": {},
   "outputs": [],
   "source": [
    "def get_erdos_renyi(size, connectivity):\n",
    "    erdos_renyi_name = Path(f'erdos_renyi_{size}_{connectivity}')\n",
    "    if not os.path.exists(erdos_renyi_root / erdos_renyi_name):\n",
    "        # Create the dataset once and for all\n",
    "        data = {\n",
    "            'root': \"DATA/ERDOS_RENYI\",\n",
    "            'splits': \"SPLITS/\",\n",
    "            'name': \"erdos_renyi\",\n",
    "            'splitter': \"datasets.splitter.SIRSplitter\",\n",
    "            'class_name': \"datasets.datasets.ErdosRenyiDataset\",\n",
    "            'inner_folds': 1,\n",
    "            'outer_folds': 1,\n",
    "            'seed': 42,\n",
    "            'other_args':\n",
    "                {\n",
    "                  'size': int(size),\n",
    "                  'connectivity': str(connectivity)\n",
    "                }\n",
    "        }\n",
    "\n",
    "        with open('tmp.yml', 'w') as outfile:\n",
    "            yaml.dump(data, outfile, default_flow_style=False)\n",
    "        !python PrepareDatasets.py --config-file tmp.yml\n",
    "            \n",
    "        os.remove('tmp.yml')\n",
    "        # Create the dataset\n",
    "        ErdosRenyiDataset(erdos_renyi_root, 'erdos_renyi', size, connectivity)\n",
    "    \n",
    "    erdos_renyi_getter = DataProvider(erdos_renyi_root, splits_folder, ErdosRenyiDataset,\n",
    "                                          erdos_renyi_name, outer_folds=1, inner_folds=1,\n",
    "                                          num_workers=num_workers, pin_memory=True if num_workers > 0 else False)\n",
    "    erdos_renyi_getter.set_outer_k(0)  # needs to stay 0\n",
    "    erdos_renyi_getter.set_inner_k(0)  # needs to stay 0\n",
    "\n",
    "    # Instantiate the Dataset\n",
    "    train_loader = erdos_renyi_getter.get_inner_train(batch_size=32, shuffle=False)\n",
    "    val_loader = erdos_renyi_getter.get_inner_val(batch_size=32, shuffle=False)\n",
    "    test_loader = erdos_renyi_getter.get_outer_test(batch_size=32, shuffle=False)\n",
    "    return train_loader, val_loader, test_loader"
   ]
  },
  {
   "cell_type": "markdown",
   "metadata": {},
   "source": [
    "### Pick Erdos-Renyi model"
   ]
  },
  {
   "cell_type": "code",
   "execution_count": 7,
   "metadata": {},
   "outputs": [],
   "source": [
    "# Load model associated with a specific experiment\n",
    "size = 100\n",
    "connectivity= \"0.01@0.05@0.1@0.2\"\n",
    "\n",
    "erdos_renyi_name = Path(f'erdos_renyi_{size}_{connectivity}')\n",
    "erdos_renyi_exp_path = Path('TRANSFER_STUDY', erdos_renyi_name)\n",
    "\n",
    "if not os.path.exists(erdos_renyi_exp_path):\n",
    "    os.makedirs(erdos_renyi_exp_path)\n",
    "\n",
    "cfg_file = Path(results_folder, f'GMDN_{erdos_renyi_name}_assessment', 'HOLDOUT_ASS', 'assessment_results.json')\n",
    "ckpt_file = Path(results_folder, f'GMDN_{erdos_renyi_name}_assessment', 'HOLDOUT_ASS', 'best_checkpoint.pth')\n",
    "\n",
    "# Load configuration file and checkpoint\n",
    "erdos_renyi_config, erdos_renyi_checkpoint = get_config_and_checkpoint(cfg_file, ckpt_file)\n",
    "# Create experiment\n",
    "erdos_renyi_exp = Experiment(erdos_renyi_config, erdos_renyi_exp_path)\n",
    "# Create model\n",
    "erdos_renyi_model = erdos_renyi_exp.create_supervised_model(dim_node_features=5, dim_edge_features=0, dim_target=1)\n",
    "# Load checkpoint\n",
    "erdos_renyi_model.load_state_dict(erdos_renyi_checkpoint['model_state'])\n",
    "# Create training engine to perform inference\n",
    "erdos_renyi_engine = erdos_renyi_exp.create_supervised_wrapper(erdos_renyi_model)"
   ]
  },
  {
   "cell_type": "markdown",
   "metadata": {},
   "source": [
    "### Pick a dataset and get the mean log likelihood using a model of your choice"
   ]
  },
  {
   "cell_type": "markdown",
   "metadata": {},
   "source": [
    "### Barabasi-Albert model applied to a dataset"
   ]
  },
  {
   "cell_type": "code",
   "execution_count": 8,
   "metadata": {},
   "outputs": [
    {
     "name": "stdout",
     "output_type": "stream",
     "text": [
      "BA-100 performance on barabasi_albert_50_2@5@10@20 TRAIN is  {'True Log Likelihood': tensor(-1.2025), 'Dirichlet Prior': tensor(3.1780)}\n",
      "BA-100 performance on barabasi_albert_50_2@5@10@20 VAL is  {'True Log Likelihood': tensor(-1.1903), 'Dirichlet Prior': tensor(3.1781)}\n",
      "BA-100 performance on barabasi_albert_50_2@5@10@20 TEST is  {'True Log Likelihood': tensor(-1.2075), 'Dirichlet Prior': tensor(3.1781)}\n",
      "BA-100 performance on barabasi_albert_100_2@5@10@20 TRAIN is  {'True Log Likelihood': tensor(-0.6602), 'Dirichlet Prior': tensor(3.1780)}\n",
      "BA-100 performance on barabasi_albert_100_2@5@10@20 VAL is  {'True Log Likelihood': tensor(-0.6189), 'Dirichlet Prior': tensor(3.1781)}\n",
      "BA-100 performance on barabasi_albert_100_2@5@10@20 TEST is  {'True Log Likelihood': tensor(-0.6707), 'Dirichlet Prior': tensor(3.1781)}\n",
      "BA-100 performance on barabasi_albert_200_2@5@10@20 TRAIN is  {'True Log Likelihood': tensor(-3.3608), 'Dirichlet Prior': tensor(3.1780)}\n",
      "BA-100 performance on barabasi_albert_200_2@5@10@20 VAL is  {'True Log Likelihood': tensor(-3.2775), 'Dirichlet Prior': tensor(3.1781)}\n",
      "BA-100 performance on barabasi_albert_200_2@5@10@20 TEST is  {'True Log Likelihood': tensor(-3.2560), 'Dirichlet Prior': tensor(3.1781)}\n",
      "BA-100 performance on barabasi_albert_500_2@5@10@20 TRAIN is  {'True Log Likelihood': tensor(-4.9989), 'Dirichlet Prior': tensor(3.1780)}\n",
      "BA-100 performance on barabasi_albert_500_2@5@10@20 VAL is  {'True Log Likelihood': tensor(-4.9703), 'Dirichlet Prior': tensor(3.1781)}\n",
      "BA-100 performance on barabasi_albert_500_2@5@10@20 TEST is  {'True Log Likelihood': tensor(-5.1679), 'Dirichlet Prior': tensor(3.1781)}\n",
      "BA-100 performance on erdos_renyi_50_0.01@0.05@0.1@0.2 TRAIN is  {'True Log Likelihood': tensor(-4.9799), 'Dirichlet Prior': tensor(3.1780)}\n",
      "BA-100 performance on erdos_renyi_50_0.01@0.05@0.1@0.2 VAL is  {'True Log Likelihood': tensor(-4.9902), 'Dirichlet Prior': tensor(3.1781)}\n",
      "BA-100 performance on erdos_renyi_50_0.01@0.05@0.1@0.2 TEST is  {'True Log Likelihood': tensor(-4.8025), 'Dirichlet Prior': tensor(3.1781)}\n",
      "BA-100 performance on erdos_renyi_100_0.01@0.05@0.1@0.2 TRAIN is  {'True Log Likelihood': tensor(-3.0301), 'Dirichlet Prior': tensor(3.1780)}\n",
      "BA-100 performance on erdos_renyi_100_0.01@0.05@0.1@0.2 VAL is  {'True Log Likelihood': tensor(-3.0317), 'Dirichlet Prior': tensor(3.1781)}\n",
      "BA-100 performance on erdos_renyi_100_0.01@0.05@0.1@0.2 TEST is  {'True Log Likelihood': tensor(-3.0639), 'Dirichlet Prior': tensor(3.1781)}\n",
      "BA-100 performance on erdos_renyi_200_0.01@0.05@0.1@0.2 TRAIN is  {'True Log Likelihood': tensor(-4.2501), 'Dirichlet Prior': tensor(3.1780)}\n",
      "BA-100 performance on erdos_renyi_200_0.01@0.05@0.1@0.2 VAL is  {'True Log Likelihood': tensor(-4.1702), 'Dirichlet Prior': tensor(3.1781)}\n",
      "BA-100 performance on erdos_renyi_200_0.01@0.05@0.1@0.2 TEST is  {'True Log Likelihood': tensor(-4.2632), 'Dirichlet Prior': tensor(3.1781)}\n",
      "BA-100 performance on erdos_renyi_500_0.01@0.05@0.1@0.2 TRAIN is  {'True Log Likelihood': tensor(-4.1805), 'Dirichlet Prior': tensor(3.1780)}\n",
      "BA-100 performance on erdos_renyi_500_0.01@0.05@0.1@0.2 VAL is  {'True Log Likelihood': tensor(-4.1955), 'Dirichlet Prior': tensor(3.1781)}\n",
      "BA-100 performance on erdos_renyi_500_0.01@0.05@0.1@0.2 TEST is  {'True Log Likelihood': tensor(-4.1703), 'Dirichlet Prior': tensor(3.1781)}\n"
     ]
    }
   ],
   "source": [
    "transfer_results_dict = {'BA-100': {}}\n",
    "for size, m, name in [('50', '2@5@10@20', 'barabasi_albert'), \n",
    "                    ('100', '2@5@10@20', 'barabasi_albert'),\n",
    "                    ('200', '2@5@10@20', 'barabasi_albert'),\n",
    "                      ('500', '2@5@10@20', 'barabasi_albert'),\n",
    "                      ('50', '0.01@0.05@0.1@0.2', 'erdos_renyi'),\n",
    "                      ('100', '0.01@0.05@0.1@0.2', 'erdos_renyi'),\n",
    "                      ('200', '0.01@0.05@0.1@0.2', 'erdos_renyi'),\n",
    "                      ('500', '0.01@0.05@0.1@0.2', 'erdos_renyi')]:\n",
    "    \n",
    "    full_name =f'{name}_{size}_{m}'\n",
    "    \n",
    "    if 'barabasi' in name:\n",
    "        train_loader, val_loader, test_loader = get_barabasi_albert(size, m)\n",
    "    elif 'erdos' in name:\n",
    "        train_loader, val_loader, test_loader = get_erdos_renyi(size, m)\n",
    "    else:\n",
    "        print(f\"Name {name} not understood\")\n",
    "        continue\n",
    "\n",
    "    # Barabasi-Albert Model\n",
    "    with torch.no_grad():\n",
    "        barabasi_albert_model.to(barabasi_albert_engine.device)\n",
    "        train_loss, train_score, _ = barabasi_albert_engine.infer(train_loader, set=barabasi_albert_engine.TRAINING)                          \n",
    "        val_loss, val_score, _ = barabasi_albert_engine.infer(val_loader, set=barabasi_albert_engine.VALIDATION)\n",
    "        test_loss, test_score, _ = barabasi_albert_engine.infer(test_loader, set=barabasi_albert_engine.TEST)\n",
    "        transfer_results_dict['BA-100'][full_name] = [('TRAIN', float(train_score['True Log Likelihood'])), ('VALIDATION', float(val_score['True Log Likelihood'])), ('TEST', float(test_score['True Log Likelihood']))] \n",
    "        print(f\"BA-100 performance on {full_name} TRAIN is \", train_score)\n",
    "        print(f\"BA-100 performance on {full_name} VAL is \", val_score)\n",
    "        print(f\"BA-100 performance on {full_name} TEST is \", test_score)"
   ]
  },
  {
   "cell_type": "code",
   "execution_count": 9,
   "metadata": {},
   "outputs": [
    {
     "name": "stdout",
     "output_type": "stream",
     "text": [
      "{'BA-100': {'barabasi_albert_100_2@5@10@20': [('TRAIN', -0.6601507663726807),\n",
      "                                              ('VALIDATION',\n",
      "                                               -0.6189372539520264),\n",
      "                                              ('TEST', -0.6706908345222473)],\n",
      "            'barabasi_albert_200_2@5@10@20': [('TRAIN', -3.3607635498046875),\n",
      "                                              ('VALIDATION',\n",
      "                                               -3.277494192123413),\n",
      "                                              ('TEST', -3.255983829498291)],\n",
      "            'barabasi_albert_500_2@5@10@20': [('TRAIN', -4.998858451843262),\n",
      "                                              ('VALIDATION',\n",
      "                                               -4.970314025878906),\n",
      "                                              ('TEST', -5.167931079864502)],\n",
      "            'barabasi_albert_50_2@5@10@20': [('TRAIN', -1.202526569366455),\n",
      "                                             ('VALIDATION', -1.190334439277649),\n",
      "                                             ('TEST', -1.2074581384658813)],\n",
      "            'erdos_renyi_100_0.01@0.05@0.1@0.2': [('TRAIN',\n",
      "                                                   -3.0301473140716553),\n",
      "                                                  ('VALIDATION',\n",
      "                                                   -3.0317203998565674),\n",
      "                                                  ('TEST',\n",
      "                                                   -3.0639452934265137)],\n",
      "            'erdos_renyi_200_0.01@0.05@0.1@0.2': [('TRAIN', -4.250127792358398),\n",
      "                                                  ('VALIDATION',\n",
      "                                                   -4.170229911804199),\n",
      "                                                  ('TEST', -4.263202667236328)],\n",
      "            'erdos_renyi_500_0.01@0.05@0.1@0.2': [('TRAIN', -4.180541038513184),\n",
      "                                                  ('VALIDATION',\n",
      "                                                   -4.195517063140869),\n",
      "                                                  ('TEST', -4.170271396636963)],\n",
      "            'erdos_renyi_50_0.01@0.05@0.1@0.2': [('TRAIN', -4.979940891265869),\n",
      "                                                 ('VALIDATION',\n",
      "                                                  -4.990248203277588),\n",
      "                                                 ('TEST', -4.802502632141113)]}}\n"
     ]
    }
   ],
   "source": [
    "pprint.pprint(transfer_results_dict)"
   ]
  },
  {
   "cell_type": "markdown",
   "metadata": {},
   "source": [
    "### Erdos-Renyi model applied to a dataset"
   ]
  },
  {
   "cell_type": "code",
   "execution_count": 10,
   "metadata": {},
   "outputs": [
    {
     "name": "stdout",
     "output_type": "stream",
     "text": [
      "ER-100 performance on barabasi_albert_50_2@5@10@20 TRAIN is  {'True Log Likelihood': tensor(-1.9803), 'Dirichlet Prior': tensor(12.8018)}\n",
      "ER-100 performance on barabasi_albert_50_2@5@10@20 VAL is  {'True Log Likelihood': tensor(-1.9468), 'Dirichlet Prior': tensor(12.8018)}\n",
      "ER-100 performance on barabasi_albert_50_2@5@10@20 TEST is  {'True Log Likelihood': tensor(-1.9846), 'Dirichlet Prior': tensor(12.8018)}\n",
      "ER-100 performance on barabasi_albert_100_2@5@10@20 TRAIN is  {'True Log Likelihood': tensor(-0.9989), 'Dirichlet Prior': tensor(12.8018)}\n",
      "ER-100 performance on barabasi_albert_100_2@5@10@20 VAL is  {'True Log Likelihood': tensor(-0.9708), 'Dirichlet Prior': tensor(12.8018)}\n",
      "ER-100 performance on barabasi_albert_100_2@5@10@20 TEST is  {'True Log Likelihood': tensor(-1.0062), 'Dirichlet Prior': tensor(12.8018)}\n",
      "ER-100 performance on barabasi_albert_200_2@5@10@20 TRAIN is  {'True Log Likelihood': tensor(-2.6479), 'Dirichlet Prior': tensor(12.8018)}\n",
      "ER-100 performance on barabasi_albert_200_2@5@10@20 VAL is  {'True Log Likelihood': tensor(-2.5188), 'Dirichlet Prior': tensor(12.8018)}\n",
      "ER-100 performance on barabasi_albert_200_2@5@10@20 TEST is  {'True Log Likelihood': tensor(-2.5036), 'Dirichlet Prior': tensor(12.8018)}\n",
      "ER-100 performance on barabasi_albert_500_2@5@10@20 TRAIN is  {'True Log Likelihood': tensor(-4.8064), 'Dirichlet Prior': tensor(12.8018)}\n",
      "ER-100 performance on barabasi_albert_500_2@5@10@20 VAL is  {'True Log Likelihood': tensor(-4.7792), 'Dirichlet Prior': tensor(12.8018)}\n",
      "ER-100 performance on barabasi_albert_500_2@5@10@20 TEST is  {'True Log Likelihood': tensor(-4.9750), 'Dirichlet Prior': tensor(12.8018)}\n",
      "ER-100 performance on erdos_renyi_50_0.01@0.05@0.1@0.2 TRAIN is  {'True Log Likelihood': tensor(-3.7332), 'Dirichlet Prior': tensor(12.8018)}\n",
      "ER-100 performance on erdos_renyi_50_0.01@0.05@0.1@0.2 VAL is  {'True Log Likelihood': tensor(-3.7027), 'Dirichlet Prior': tensor(12.8018)}\n",
      "ER-100 performance on erdos_renyi_50_0.01@0.05@0.1@0.2 TEST is  {'True Log Likelihood': tensor(-3.7508), 'Dirichlet Prior': tensor(12.8018)}\n",
      "ER-100 performance on erdos_renyi_100_0.01@0.05@0.1@0.2 TRAIN is  {'True Log Likelihood': tensor(-1.3999), 'Dirichlet Prior': tensor(12.8018)}\n",
      "ER-100 performance on erdos_renyi_100_0.01@0.05@0.1@0.2 VAL is  {'True Log Likelihood': tensor(-1.4058), 'Dirichlet Prior': tensor(12.8018)}\n",
      "ER-100 performance on erdos_renyi_100_0.01@0.05@0.1@0.2 TEST is  {'True Log Likelihood': tensor(-1.4169), 'Dirichlet Prior': tensor(12.8018)}\n",
      "ER-100 performance on erdos_renyi_200_0.01@0.05@0.1@0.2 TRAIN is  {'True Log Likelihood': tensor(-2.2731), 'Dirichlet Prior': tensor(12.8018)}\n",
      "ER-100 performance on erdos_renyi_200_0.01@0.05@0.1@0.2 VAL is  {'True Log Likelihood': tensor(-2.1691), 'Dirichlet Prior': tensor(12.8018)}\n",
      "ER-100 performance on erdos_renyi_200_0.01@0.05@0.1@0.2 TEST is  {'True Log Likelihood': tensor(-2.3680), 'Dirichlet Prior': tensor(12.8018)}\n",
      "ER-100 performance on erdos_renyi_500_0.01@0.05@0.1@0.2 TRAIN is  {'True Log Likelihood': tensor(-4.0214), 'Dirichlet Prior': tensor(12.8018)}\n",
      "ER-100 performance on erdos_renyi_500_0.01@0.05@0.1@0.2 VAL is  {'True Log Likelihood': tensor(-4.0285), 'Dirichlet Prior': tensor(12.8018)}\n",
      "ER-100 performance on erdos_renyi_500_0.01@0.05@0.1@0.2 TEST is  {'True Log Likelihood': tensor(-4.0183), 'Dirichlet Prior': tensor(12.8018)}\n"
     ]
    }
   ],
   "source": [
    "transfer_results_dict['ER-100'] = {}\n",
    "for size, m, name in [('50', '2@5@10@20', 'barabasi_albert'), \n",
    "                      ('100', '2@5@10@20', 'barabasi_albert'),\n",
    "                      ('200', '2@5@10@20', 'barabasi_albert'),\n",
    "                      ('500', '2@5@10@20', 'barabasi_albert'),\n",
    "                      ('50', '0.01@0.05@0.1@0.2', 'erdos_renyi'),\n",
    "                      ('100', '0.01@0.05@0.1@0.2', 'erdos_renyi'),\n",
    "                      ('200', '0.01@0.05@0.1@0.2', 'erdos_renyi'),\n",
    "                      ('500', '0.01@0.05@0.1@0.2', 'erdos_renyi')]:\n",
    "    \n",
    "    full_name =f'{name}_{size}_{m}'\n",
    "    \n",
    "    if 'barabasi' in name:\n",
    "        train_loader, val_loader, test_loader = get_barabasi_albert(size, m)\n",
    "    elif 'erdos' in name:\n",
    "        train_loader, val_loader, test_loader = get_erdos_renyi(size, m)\n",
    "    else:\n",
    "        print(f\"Name {name} not understood\")\n",
    "        continue\n",
    "\n",
    "    # Erdos-Renyi Model\n",
    "    with torch.no_grad():\n",
    "        erdos_renyi_model.to(erdos_renyi_engine.device)\n",
    "        train_loss, train_score, _ = erdos_renyi_engine.infer(train_loader, set=erdos_renyi_engine.TRAINING)                          \n",
    "        val_loss, val_score, _ = erdos_renyi_engine.infer(val_loader, set=erdos_renyi_engine.VALIDATION)\n",
    "        test_loss, test_score, _ = erdos_renyi_engine.infer(test_loader, set=erdos_renyi_engine.TEST)\n",
    "        transfer_results_dict['ER-100'][full_name] = [('TRAIN', float(train_score['True Log Likelihood'])), ('VALIDATION', float(val_score['True Log Likelihood'])), ('TEST', float(test_score['True Log Likelihood']))] \n",
    "        print(f\"ER-100 performance on {full_name} TRAIN is \", train_score)\n",
    "        print(f\"ER-100 performance on {full_name} VAL is \", val_score)\n",
    "        print(f\"ER-100 performance on {full_name} TEST is \", test_score)"
   ]
  },
  {
   "cell_type": "code",
   "execution_count": 11,
   "metadata": {},
   "outputs": [],
   "source": [
    "with open('transfer_results.pkl', 'wb') as f:\n",
    "    pickle.dump(transfer_results_dict, f)"
   ]
  },
  {
   "cell_type": "code",
   "execution_count": 17,
   "metadata": {},
   "outputs": [
    {
     "name": "stderr",
     "output_type": "stream",
     "text": [
      "The PostScript backend does not support transparency; partially transparent artists will be rendered opaque.\n",
      "The PostScript backend does not support transparency; partially transparent artists will be rendered opaque.\n"
     ]
    },
    {
     "data": {
      "image/png": "[encoded data removed]",
      "text/plain": [
       "<Figure size 432x288 with 1 Axes>"
      ]
     },
     "metadata": {
      "needs_background": "light"
     },
     "output_type": "display_data"
    }
   ],
   "source": [
    "import pandas as pd\n",
    "\n",
    "name_changer=dict(barabasi=\"BA-\", erdos=\"ER-\")\n",
    "\n",
    "#plt.figure()\n",
    "\n",
    "ba_100_test_result = -0.67\n",
    "er_100_test_result = -1.42\n",
    "\n",
    "dataset_to_id = {\n",
    "                'BA-50':  0,\n",
    "                'BA-100': 1,\n",
    "                'BA-200': 2,\n",
    "                'BA-500': 3,\n",
    "                'ER-50':  4,\n",
    "                'ER-100': 5,\n",
    "                'ER-200': 6,\n",
    "                'ER-500': 7,\n",
    "}\n",
    "datasets_order =[\n",
    "                'BA-50',\n",
    "                'BA-100',\n",
    "                'BA-200',\n",
    "                'BA-500',\n",
    "                'ER-50',\n",
    "                'ER-100',\n",
    "                'ER-200',\n",
    "                'ER-500',\n",
    "]\n",
    "\n",
    "#first_point = ba_100_test_result\n",
    "#plt.scatter([0], [first_point], s=50, c='b', marker='D', zorder=20)\n",
    "\n",
    "red = '#E24A55'\n",
    "blue = '#4A90E2'\n",
    "green = '#549E4E'\n",
    "\n",
    "dataframe = pd.DataFrame(columns=['dataset', 'score', 'model', 'marker_style'])\n",
    "\n",
    "for k,v in transfer_results_dict['BA-100'].items():\n",
    "    \n",
    "    name_splitted = k.split('_')\n",
    "    firstname, secondname, size, connectivity = name_splitted\n",
    "    \n",
    "    k_parsed = f'{name_changer[firstname]}{size}'\n",
    "    _, test_score = v[2]\n",
    "\n",
    "    new_row = {'Dataset': k_parsed, r'$\\log\\mathcal{L}$ on test set': test_score, 'Model': 'GMDN on BA-100', 'marker_style': 'o'}\n",
    "    #append row to the dataframe\n",
    "    dataframe = dataframe.append(new_row, ignore_index=True)\n",
    "\n",
    "    new_row = {'Dataset': k_parsed, r'$\\log\\mathcal{L}$ on test set': float(torch.log(torch.tensor([1./int(size)]))), 'Model': 'RAND', 'marker_style': 's'}\n",
    "    #append row to the dataframe\n",
    "    dataframe = dataframe.append(new_row, ignore_index=True)\n",
    "    \n",
    "    #plt.scatter(dataset_to_id[k_parsed], [float(torch.log(torch.tensor([1./int(size)])))], s=50, c=green, marker='s', zorder=20, label='RAND')\n",
    "    #plt.text(dataset_to_id[k_parsed]-0.25, float(torch.log(torch.tensor([1./int(size)])))-0.32, 'RAND', fontsize=9)\n",
    "    #style = 'k--'       \n",
    "    #plt.plot([0, dataset_to_id[k_parsed]], [first_point, test_score], style, linewidth=0.5)\n",
    "    #plt.scatter(dataset_to_id[k_parsed], test_score, s=50, c=blue, marker='D', zorder=20, label='GMDN on BA-100')\n",
    "    #plt.text(dataset_to_id[k_parsed]+0.2, test_score-0.1, str(f'{name_changer[firstname]}{size}'), fontsize=9)\n",
    "\n",
    "\n",
    "#first_point = er_100_test_result\n",
    "#plt.scatter([0], [first_point], s=50, c='r', marker='o', zorder=20)\n",
    "\n",
    "for k,v in transfer_results_dict['ER-100'].items():\n",
    "    \n",
    "    name_splitted = k.split('_')\n",
    "    firstname, secondname, size, connectivity = name_splitted\n",
    "\n",
    "    k_parsed = f'{name_changer[firstname]}{size}'\n",
    "    _, test_score = v[2]\n",
    "    \n",
    "    new_row = {'Dataset': k_parsed, r'$\\log\\mathcal{L}$ on test set': test_score, 'Model': 'GMDN on ER-100', 'marker_style': 'x'}\n",
    "    #append row to the dataframe\n",
    "    dataframe = dataframe.append(new_row, ignore_index=True)\n",
    "    \n",
    "    #style = 'k--'       \n",
    "    #plt.plot([0, dataset_to_id[k_parsed]], [first_point, test_score], style, linewidth=0.5)\n",
    "    #plt.scatter(dataset_to_id[k_parsed], test_score, s=50, c=red, marker='o', zorder=20, label='GMDN on ER-100')\n",
    "    #plt.text(dataset_to_id[k_parsed]+0.2, test_score-0.1, str(f'{name_changer[firstname]}{size}'), fontsize=9)\n",
    "    \n",
    "sns.scatterplot(x='Dataset', y=r'$\\log\\mathcal{L}$ on test set', hue='Model', style='Model', s=50, data=dataframe, hue_order = ['GMDN on BA-100', 'GMDN on ER-100', 'RAND'])\n",
    "\n",
    "\n",
    "plt.xticks(ticks=range(len(datasets_order)), labels=datasets_order)\n",
    "plt.xticks(rotation=-45)\n",
    "plt.legend()\n",
    "plt.rcParams.update({'font.size': 12})\n",
    "plt.tight_layout()\n",
    "plt.savefig('transfer_effect.eps')\n",
    "plt.show()\n"
   ]
  },
  {
   "cell_type": "code",
   "execution_count": null,
   "metadata": {},
   "outputs": [],
   "source": []
  }
 ],
 "metadata": {
  "kernelspec": {
   "display_name": "Python 3",
   "language": "python",
   "name": "python3"
  },
  "language_info": {
   "codemirror_mode": {
    "name": "ipython",
    "version": 3
   },
   "file_extension": ".py",
   "mimetype": "text/x-python",
   "name": "python",
   "nbconvert_exporter": "python",
   "pygments_lexer": "ipython3",
   "version": "3.7.11"
  }
 },
 "nbformat": 4,
 "nbformat_minor": 4
}
